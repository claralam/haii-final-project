{
 "cells": [
  {
   "cell_type": "markdown",
   "id": "ead97fcf",
   "metadata": {},
   "source": [
    "# Classifying Job Postings\n",
    "## Building the Model"
   ]
  },
  {
   "cell_type": "markdown",
   "id": "bdd49eda",
   "metadata": {},
   "source": [
    "This file contains the old logistic regression model that I created. However, the accuracy on this model differed greatly depending on the rows that were selected when I balance the dataset. Therefore, I decided to create a new text classifier model in `model.py`."
   ]
  },
  {
   "cell_type": "code",
   "execution_count": 3,
   "id": "d1d68aac",
   "metadata": {},
   "outputs": [],
   "source": [
    "# Importing packages\n",
    "import numpy as np\n",
    "import pandas as pd\n",
    "import sklearn\n",
    "from sklearn import preprocessing\n",
    "from sklearn.model_selection import train_test_split\n",
    "from sklearn.metrics import confusion_matrix\n",
    "from sklearn.metrics import classification_report\n",
    "from sklearn.linear_model import LogisticRegression\n",
    "import matplotlib.pyplot as plt"
   ]
  },
  {
   "cell_type": "code",
   "execution_count": 4,
   "id": "5fb996cd",
   "metadata": {},
   "outputs": [],
   "source": [
    "# Reading csv\n",
    "df = pd.read_csv(\"fake_job_postings.csv\")\n",
    "\n",
    "# Cleaning/modifying data\n",
    "split_location = df['location'].str.split(\",\", n = 2, expand = True)\n",
    "df['country'] = split_location[0]\n",
    "df['state/province'] = split_location[1]\n",
    "df['city'] = split_location[2]\n",
    "df['has_company_profile'] = np.where(pd.isna(df['company_profile']), 0, 1)\n",
    "# df['description_count'] = \n",
    "df.drop(columns =['location', 'company_profile'], inplace = True)"
   ]
  },
  {
   "cell_type": "code",
   "execution_count": 5,
   "id": "1be5d7bf",
   "metadata": {},
   "outputs": [],
   "source": [
    "df = pd.get_dummies(df, columns = ['employment_type', 'required_experience', 'required_education'], drop_first=True)"
   ]
  },
  {
   "cell_type": "code",
   "execution_count": 6,
   "id": "29ef87e7",
   "metadata": {},
   "outputs": [],
   "source": [
    "# Creating balanced dataframe\n",
    "fraudulent = df[df['fraudulent'] == 1]\n",
    "allReal = df[df['fraudulent'] == 0]\n",
    "real = allReal.sample(len(fraudulent))\n",
    "balancedDf = pd.concat([fraudulent, real])\n",
    "\n",
    "# Separating the independent and dependent variables\n",
    "x, y = balancedDf.drop(['job_id', 'title', 'department', 'salary_range', 'description', 'requirements', 'benefits', 'industry', 'function', 'country', 'state/province', 'city', 'fraudulent', 'title'], axis=1), balancedDf['fraudulent']\n",
    "\n",
    "# Splitting training, testing, validation datasets\n",
    "x_train, x_temp, y_train, y_temp = train_test_split(x, y, test_size=0.30)\n",
    "x_validation, x_test, y_validation, y_test = train_test_split(x_temp, y_temp, test_size=0.50)"
   ]
  },
  {
   "cell_type": "code",
   "execution_count": 17,
   "id": "deefaf39",
   "metadata": {},
   "outputs": [
    {
     "name": "stdout",
     "output_type": "stream",
     "text": [
      "% match is  0.7076923076923077\n",
      "[[-1.45996965e-01 -1.27573625e+00 -3.85991334e-01 -1.88239559e+00\n",
      "   3.26243674e-03 -1.26523682e-01  6.35400526e-01 -1.24128088e+00\n",
      "   1.89186698e+00 -9.10152825e-02  1.83063329e+00 -1.37282591e+00\n",
      "   5.84669802e-01 -5.39153723e-01  2.02813225e-01  2.66053264e+00\n",
      "   9.52795530e+00  1.91350763e+00  9.08942138e-01  3.64359389e-01\n",
      "   1.97554965e-01  1.88011521e+00  4.65837955e-02 -1.18021437e+01\n",
      "   0.00000000e+00  0.00000000e+00]] [1.46815766]\n",
      "Confusion matrix:\n",
      " [[ 97  28]\n",
      " [ 33 102]]\n",
      "\n",
      "Report:\n",
      "               precision    recall  f1-score   support\n",
      "\n",
      "           0       0.75      0.78      0.76       125\n",
      "           1       0.78      0.76      0.77       135\n",
      "\n",
      "    accuracy                           0.77       260\n",
      "   macro avg       0.77      0.77      0.77       260\n",
      "weighted avg       0.77      0.77      0.77       260\n",
      "\n"
     ]
    },
    {
     "name": "stderr",
     "output_type": "stream",
     "text": [
      "C:\\Users\\Clara\\miniconda3\\lib\\site-packages\\sklearn\\linear_model\\_logistic.py:1173: FutureWarning: `penalty='none'`has been deprecated in 1.2 and will be removed in 1.4. To keep the past behaviour, set `penalty=None`.\n",
      "  warnings.warn(\n"
     ]
    }
   ],
   "source": [
    "lr = LogisticRegression(penalty='none', max_iter=1000)\n",
    "lr.fit(x_train, y_train)\n",
    "\n",
    "y_test_pred = lr.predict(x_test)\n",
    "y_test_prob = lr.predict_proba(x_test)\n",
    "\n",
    "print(\"% match is \" ,sum(y_test == y_test_pred)/len(y_test))\n",
    "\n",
    "print(lr.coef_, lr.intercept_)\n",
    "\n",
    "def metrics(y_true, y_pred):\n",
    "    print('Confusion matrix:\\n', confusion_matrix(y_true, y_pred))\n",
    "    print('\\nReport:\\n', classification_report(y_true, y_pred))\n",
    "    \n",
    "y_pred = lr.predict(x_validation) \n",
    "metrics(y_validation, y_pred)"
   ]
  },
  {
   "cell_type": "code",
   "execution_count": 18,
   "id": "670d2766",
   "metadata": {},
   "outputs": [
    {
     "name": "stdout",
     "output_type": "stream",
     "text": [
      "[1] [[0.39520753 0.60479247]]\n"
     ]
    }
   ],
   "source": [
    "# Example of predicting with the model\n",
    "query_df = pd.DataFrame([{'telecommuting' : 0, \n",
    "                          'has_company_logo' : 1, \n",
    "                          'has_questions' : 1, \n",
    "                          'has_company_profile' : 1, \n",
    "                          'employment_type_Full-time' : 1,\n",
    "                          'employment_type_Other' : 0, \n",
    "                          'employment_type_Part-time' : 0,\n",
    "                          'employment_type_Temporary': 0,\n",
    "                          'required_experience_Director' : 0,\n",
    "                          'required_experience_Entry level' : 0,\n",
    "                          'required_experience_Executive' : 0,\n",
    "                          'required_experience_Internship' : 0,\n",
    "                          'required_experience_Mid-Senior level' : 1,\n",
    "                          'required_experience_Not Applicable' : 0,\n",
    "                          \"required_education_Bachelor's Degree\" : 0,\n",
    "                          'required_education_Certification' : 0, \n",
    "                          'required_education_Doctorate' : 0,\n",
    "                          'required_education_High School or equivalent' : 1,\n",
    "                          \"required_education_Master's Degree\" : 0,\n",
    "                          'required_education_Professional' : 0,\n",
    "                          'required_education_Some College Coursework Completed' : 0,\n",
    "                          'required_education_Some High School Coursework' : 0,\n",
    "                          'required_education_Unspecified' : 0,\n",
    "                          'required_education_Vocational' : 0,\n",
    "                          'required_education_Vocational - Degree' : 0,\n",
    "                          'required_education_Vocational - HS Diploma' : 0}])\n",
    "pred = lr.predict(query_df)\n",
    "pred_prob = lr.predict_proba(query_df)\n",
    "print(pred, pred_prob)"
   ]
  },
  {
   "cell_type": "markdown",
   "id": "e527c4f5",
   "metadata": {},
   "source": [
    "## Exporting Model"
   ]
  },
  {
   "cell_type": "code",
   "execution_count": null,
   "id": "e8a6aadf",
   "metadata": {},
   "outputs": [],
   "source": [
    "import joblib\n",
    "# modify the file path to where you want to save the model\n",
    "joblib.dump(lr, 'app/model.pkl')"
   ]
  }
 ],
 "metadata": {
  "kernelspec": {
   "display_name": "Python 3 (ipykernel)",
   "language": "python",
   "name": "python3"
  },
  "language_info": {
   "codemirror_mode": {
    "name": "ipython",
    "version": 3
   },
   "file_extension": ".py",
   "mimetype": "text/x-python",
   "name": "python",
   "nbconvert_exporter": "python",
   "pygments_lexer": "ipython3",
   "version": "3.8.10"
  }
 },
 "nbformat": 4,
 "nbformat_minor": 5
}
